{
 "cells": [
  {
   "cell_type": "code",
   "execution_count": null,
   "metadata": {},
   "outputs": [
    {
     "data": {
      "text/plain": [
       "True"
      ]
     },
     "execution_count": null,
     "metadata": {},
     "output_type": "execute_result"
    }
   ],
   "source": [
    "import os\n",
    "from dotenv import load_dotenv\n",
    "\n",
    "load_dotenv()"
   ]
  },
  {
   "cell_type": "code",
   "execution_count": null,
   "metadata": {},
   "outputs": [
    {
     "name": "stdout",
     "output_type": "stream",
     "text": [
      "young girl named Lily who lived in a small village nestled between rolling hills and dense forests. Lily was known for her curiosity and adventurous spirit, always eager to explore the world beyond her village. One day, while wandering through the woods, she stumbled upon a hidden path that she had never seen before. Intrigued, she decided to follow it.\n",
      "\n",
      "The path led her deeper into the forest, where the trees grew taller and the air felt cooler. After walking for what seemed like hours, Lily arrived at a clearing. In the center of the clearing stood a magnificent, ancient oak tree with a door carved into its trunk. The door was adorned with intricate patterns and symbols that seemed to glow faintly in the dappled sunlight.\n",
      "\n",
      "With a mixture of excitement and apprehension, Lily reached out and turned the ornate handle. The door creaked open, revealing a spiral staircase that descended into the earth. Taking a deep breath, she stepped inside and began her descent.\n",
      "\n",
      "As she reached the bottom of the staircase, Lily found herself in a vast underground chamber filled with shimmering crystals and bioluminescent plants. In the center of the chamber was a pedestal, upon which rested a small, ornate box. Drawn to it, Lily approached the pedestal and carefully opened the box.\n",
      "\n",
      "Inside, she found a beautiful, intricately designed key. As she held it in her hand, a warm, comforting light enveloped her, and she heard a gentle voice whisper, \"This key will unlock the door to your destiny. Use it wisely, and it will guide you on your journey.\"\n",
      "\n",
      "With the key in her possession, Lily felt a newfound sense of purpose and determination. She knew that her life was about to change in ways she could never have imagined. And so, with the key clutched tightly in her hand, she set off on a grand adventure, ready to face whatever challenges and wonders lay ahead.\n"
     ]
    }
   ],
   "source": [
    "import os\n",
    "\n",
    "from openai import AzureOpenAI\n",
    "\n",
    "client = AzureOpenAI(\n",
    "    azure_endpoint=os.environ[\"AZURE_ENDPOINT\"],\n",
    "    api_version=os.environ[\"AZURE_API_VERSION\"],\n",
    "    api_key=os.environ[\"AZURE_API_KEY\"],\n",
    ")\n",
    "\n",
    "\n",
    "def get_completion(prompt, model=\"gpt-4o\"):\n",
    "    messages = [{\"role\": \"user\", \"content\": prompt}]\n",
    "    completion = client.chat.completions.create(\n",
    "        model=model,\n",
    "        messages=messages,\n",
    "        temperature=0,\n",
    "    )\n",
    "    return completion.choices[0].message.content\n",
    "\n",
    "\n",
    "response = get_completion(\"Once upon a time, there was a\")\n",
    "\n",
    "print(response)"
   ]
  },
  {
   "cell_type": "code",
   "execution_count": null,
   "metadata": {},
   "outputs": [],
   "source": []
  }
 ],
 "metadata": {
  "kernelspec": {
   "display_name": "python3",
   "language": "python",
   "name": "python3"
  }
 },
 "nbformat": 4,
 "nbformat_minor": 2
}
